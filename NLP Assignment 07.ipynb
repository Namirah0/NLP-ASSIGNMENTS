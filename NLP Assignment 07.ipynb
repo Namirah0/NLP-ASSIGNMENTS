{
 "cells": [
  {
   "cell_type": "code",
   "execution_count": null,
   "id": "d145c6ff",
   "metadata": {},
   "outputs": [],
   "source": [
    "Q1. Explain the architecture of BERT\n",
    "\n",
    "Ans:\n",
    "\n",
    "BERT stands for Bidirectional Encoder Representations from Transformers. It is designed to pre-train deep bidirectional \n",
    "representations from unlabeled text by jointly conditioning on both left and right context. BERT is based on the Transformer\n",
    "architecture"
   ]
  },
  {
   "cell_type": "code",
   "execution_count": null,
   "id": "c607dbd6",
   "metadata": {},
   "outputs": [],
   "source": [
    "Q2. Explain Masked Language Modeling (MLM)\n",
    "\n",
    "Ans:\n",
    "\n",
    "Masked language modeling (MLM), a self-supervised pretraining objective, is widely used in natural language processing for \n",
    "learning text representations. MLM trains a model to predict a random sample of input tokens that have been replaced by a \n",
    "[MASK] placeholder in a multi-class setting over the entire vocabulary."
   ]
  },
  {
   "cell_type": "code",
   "execution_count": null,
   "id": "2027392c",
   "metadata": {},
   "outputs": [],
   "source": [
    "Q3. Explain Next Sentence Prediction (NSP)\n",
    "\n",
    "Ans:\n",
    "\n",
    "Next sentence prediction (NSP) is one-half of the training process behind the BERT model (the other being masked-language \n",
    "modeling — MLM). Where MLM teaches BERT to understand relationships between words — NSP teaches BERT to understand longer-term\n",
    "dependencies across sentences."
   ]
  },
  {
   "cell_type": "code",
   "execution_count": null,
   "id": "f0dcb1aa",
   "metadata": {},
   "outputs": [],
   "source": [
    "Q4. What is Matthews evaluation?\n",
    "\n",
    "Ans:\n",
    "\n",
    "Matthew's correlation coefficient, also abbreviated as MCC was invented by Brian Matthews in 1975. MCC is a statistical tool \n",
    "used for model evaluation. Its job is to gauge or measure the difference between the predicted values and actual values and is\n",
    "equivalent to chi-square statistics for a 2 x 2 contingency table. A correlation of: C = 1 indicates perfect agreement, C = 0\n",
    "is expected for a prediction no better than random, and C = -1 indicates total disagreement between prediction and \n",
    "observation"
   ]
  },
  {
   "cell_type": "code",
   "execution_count": null,
   "id": "21f6a4fc",
   "metadata": {},
   "outputs": [],
   "source": [
    "Q5. What is Matthews Correlation Coefficient (MCC)?\n",
    "\n",
    "Ans:\n",
    "\n",
    "Matthew's correlation coefficient, also abbreviated as MCC was invented by Brian Matthews in 1975. MCC is a statistical tool \n",
    "used for model evaluation. Its job is to gauge or measure the difference between the predicted values and actual values and is\n",
    "equivalent to chi-square statistics for a 2 x 2 contingency table. A correlation of: C = 1 indicates perfect agreement, C = 0 \n",
    "    is expected for a prediction no better than random, and C = -1 indicates total disagreement between prediction and \n",
    "    observation"
   ]
  },
  {
   "cell_type": "code",
   "execution_count": null,
   "id": "90951b94",
   "metadata": {},
   "outputs": [],
   "source": [
    "Q6. Explain Semantic Role Labeling Ans:\n",
    "\n",
    "In natural language processing, semantic role labeling (also called shallow semantic parsing or slot-filling) is the process \n",
    "that assigns labels to words or phrases in a sentence that indicates their semantic role in the sentence, such as that of an \n",
    "agent, goal, or result."
   ]
  },
  {
   "cell_type": "code",
   "execution_count": null,
   "id": "98e5a0d8",
   "metadata": {},
   "outputs": [],
   "source": [
    "Q7. Why Fine-tuning a BERT model takes less time than pretraining\n",
    "\n",
    "Ans:\n",
    "\n",
    "Specifically, we will take the pre-trained BERT model, add an untrained layer of neurons on the end, and train the new model \n",
    "for our classification task. Why do this rather than train a train a specific deep learning model (a CNN, BiLSTM, etc.) that is\n",
    "well suited for the specific NLP task you need? When the model is trained on a large generic corpus, it is called \n",
    "'pre-training'. When it is adapted to a particular task or dataset it is called as 'fine-tuning'. Hence Fine-tuning a BERT \n",
    "model takes less time than pretraining. Below are other reasons:\n",
    "\n",
    "Easy Training\n",
    "First, the pre-trained BERT model weights already encode a lot of information about our language. As a result, it takes much \n",
    "less time to train our fine-tuned model - it is as if we have already trained the bottom layers of our network extensively and\n",
    "only need to gently tune them while using their output as features for our classification task. In fact, the authors recommend \n",
    "only 2-4 epochs of training for fine-tuning BERT on a specific NLP task (compared to the hundreds of GPU hours needed to train \n",
    "the original BERT model or a LSTM from scratch!).\n",
    "\n",
    "Less Data\n",
    "In addition and perhaps just as important, because of the pre-trained weights this method allows us to fine-tune our task on a \n",
    "much smaller dataset than would be required in a model that is built from scratch. A major drawback of NLP models built from \n",
    "scratch is that we often need a prohibitively large dataset in order to train our network to reasonable accuracy, meaning a lot\n",
    "of time and energy had to be put into dataset creation. By fine-tuning BERT, we are now able to get away with training a model \n",
    "to good performance on a much smaller amount of training data.\n",
    "\n",
    "Good Results\n",
    "Second, this simple fine-tuning procedure (typically adding one fully-connected layer on top of BERT and training for a few \n",
    "epochs) was shown to achieve state of the art results with minimal task-specific adjustments for a wide variety of tasks: \n",
    "    classification, language inference, semantic similarity, question answering, etc. Rather than implementing custom and \n",
    "    sometimes-obscure architetures shown to work well on a specific task, simply fine-tuning BERT is shown to be a better \n",
    "    (or at least equal) alternative.\n",
    "    \n",
    "Recognizing Textual Entailment (RTE)\n",
    "Textual entailment recognition is the task of deciding, given two text fragments, whether the meaning of one text is entailed \n",
    "(can be inferred) from another text (see the Instructions tab for the specific operational definition of textual entailment \n",
    "assumed in the challenge).\n",
    "\n",
    "Explain the decoder stack of GPT models.\n",
    "GPT model was based on Transformer architecture. It was made of decoders stacked on top of each other (12 decoders). ... GPT \n",
    "model works on a principle called autoregressive which is similar to one used in RNN. It is a technique where the previous \n",
    "output becomes current input."
   ]
  }
 ],
 "metadata": {
  "kernelspec": {
   "display_name": "Python 3 (ipykernel)",
   "language": "python",
   "name": "python3"
  },
  "language_info": {
   "codemirror_mode": {
    "name": "ipython",
    "version": 3
   },
   "file_extension": ".py",
   "mimetype": "text/x-python",
   "name": "python",
   "nbconvert_exporter": "python",
   "pygments_lexer": "ipython3",
   "version": "3.9.7"
  }
 },
 "nbformat": 4,
 "nbformat_minor": 5
}
