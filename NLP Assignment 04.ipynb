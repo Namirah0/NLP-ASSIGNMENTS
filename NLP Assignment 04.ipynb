{
 "cells": [
  {
   "cell_type": "code",
   "execution_count": null,
   "id": "36fab7b2",
   "metadata": {},
   "outputs": [],
   "source": [
    "Q1. Can you think of a few applications for a sequence-to-sequence RNN? What about a sequence-to-vector RNN? And a \n",
    "vector-to-sequence RNN?\n",
    "\n",
    "Ans:\n",
    "\n",
    "In Sequence to Sequence Learning, RNN is trained to map an input sequence to an output sequence which is not necessarily of the\n",
    "same length.\n",
    "\n",
    "Applications are speech recognition, machine translation, image captioning and question answering.\n",
    "\n",
    "A variable-length context vector can be used instead of a ﬁxed-size vector. An Attention mechanism can be used to produces a \n",
    "sequence of vectors from the encoder RNN from each time step of the input sequence. The Decoder learns to pay selective \n",
    "attention to the vectors to produce the output at each time step."
   ]
  },
  {
   "cell_type": "code",
   "execution_count": null,
   "id": "569d4d36",
   "metadata": {},
   "outputs": [],
   "source": [
    "Q2. Why do people use encoder–decoder RNNs rather than plain sequence-to-sequence RNNs for automatic translation?\n",
    "\n",
    "Ans:\n",
    "\n",
    "This two-step model, called an Encoder–Decoder, works much better than trying to translate on the fly with a single \n",
    "sequence-to-sequence RNN (like the one represented on the top left), since the last words of a sentence can affect the first \n",
    "words of the translation, so you need to wait until you have heard the whole sentence before translating it. Seq-2-seq RNNs \n",
    "translate one word at a time where as encoder-decoder RNNs read & translate a sentence at a time"
   ]
  },
  {
   "cell_type": "code",
   "execution_count": null,
   "id": "63c4107f",
   "metadata": {},
   "outputs": [],
   "source": [
    "Q3. How could you combine a convolutional neural network with an RNN to classify videos?\n",
    "\n",
    "Ans:\n",
    "\n",
    "We can combine CNN and RNN.\n",
    "\n",
    "Each video is converted into sequential images and passed onto the CNN to extract spatial features. The outputs are then passed \n",
    "into a recurrent sequence learning model (i.e. LSTM) to identify temporal features within the image sequence."
   ]
  },
  {
   "cell_type": "code",
   "execution_count": null,
   "id": "145241a3",
   "metadata": {},
   "outputs": [],
   "source": [
    "Q4. What are the advantages of building an RNN using dynamic_rnn() rather than static_rnn()?\n",
    "\n",
    "Ans:\n",
    "\n",
    "Below are the advantages of building an RNN using dynamic_rnn() rather than static_rnn():\n",
    "\n",
    "Avoids out-of-memory errors\n",
    "\n",
    "Directly takes single tensor as input and output (covering all time steps)\n",
    "\n",
    "No need to stack, unstack, or transpose\n",
    "\n",
    "Generates a smaller easier to visualize graph in TensorBoard"
   ]
  },
  {
   "cell_type": "code",
   "execution_count": null,
   "id": "ab43144b",
   "metadata": {},
   "outputs": [],
   "source": [
    "Q5. How can you deal with variable-length input sequences? What about variable-length output sequences?\n",
    "\n",
    "Ans:\n",
    "\n",
    "We can deal with varibale-length input sequences in the following ways:\n",
    "\n",
    "Set sequence_length parameter when calling static_rnn() or dynamic_rnn()\n",
    "\n",
    "Pad smaller input/output to make them same size as largest input/output"
   ]
  },
  {
   "cell_type": "code",
   "execution_count": null,
   "id": "3348478e",
   "metadata": {},
   "outputs": [],
   "source": [
    "Q6. What is a common way to distribute training and execution of a deep RNN across multiple GPUs? Ans:\n",
    "\n",
    "A Common way to distribute training and execution of a deep RNN across multiple GPUs is to place each layer on a different GPU."
   ]
  }
 ],
 "metadata": {
  "kernelspec": {
   "display_name": "Python 3 (ipykernel)",
   "language": "python",
   "name": "python3"
  },
  "language_info": {
   "codemirror_mode": {
    "name": "ipython",
    "version": 3
   },
   "file_extension": ".py",
   "mimetype": "text/x-python",
   "name": "python",
   "nbconvert_exporter": "python",
   "pygments_lexer": "ipython3",
   "version": "3.9.7"
  }
 },
 "nbformat": 4,
 "nbformat_minor": 5
}
