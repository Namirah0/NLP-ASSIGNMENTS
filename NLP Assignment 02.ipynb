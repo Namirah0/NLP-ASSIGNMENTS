{
 "cells": [
  {
   "cell_type": "code",
   "execution_count": null,
   "id": "a2d1dfba",
   "metadata": {},
   "outputs": [],
   "source": [
    "Q1. What are Corpora?\n",
    "\n",
    "Ans:\n",
    "\n",
    "A corpus is a collection of authentic text or audio organized into datasets. Authentic here means text written or audio spoken\n",
    "by a native of the language or dialect. A corpus can be made up of everything from newspapers, novels, recipes, radio \n",
    "broadcasts to television shows, movies, and tweets.\n",
    "\n",
    "How it is done-->NLTK already defines a list of data paths or directories in nltk.data.path. Our custom corpora must be present\n",
    "within any of these given paths so it can be found by NLTK. We can also create a custom nltk_data directory in our home \n",
    "directory and verify that it is in the list of known paths specified by nltk.data.path."
   ]
  },
  {
   "cell_type": "code",
   "execution_count": null,
   "id": "b30d4fa3",
   "metadata": {},
   "outputs": [],
   "source": [
    "Q2. What are Tokens?\n",
    "\n",
    "Ans:\n",
    "\n",
    "Tokens are the building blocks of Natural Language. Tokenization is a way of separating a piece of text into smaller units \n",
    "called tokens. Here, tokens can be either words, characters, or subwords. Hence, tokenization can be broadly classified into 3\n",
    "types – word, character, and subword (n-gram characters) tokenization"
   ]
  },
  {
   "cell_type": "code",
   "execution_count": null,
   "id": "ef01058e",
   "metadata": {},
   "outputs": [],
   "source": [
    "Q3. What are Unigrams, Bigrams, Trigrams?\n",
    "\n",
    "Ans:\n",
    "\n",
    "A 1-gram (or unigram) is a one-word sequence. For the above sentence, the unigrams would simply be: “I”, “love”, “reading”, \n",
    "    “blogs”, “about”, “data”, “science”, “on”, “Medium”, “Channel”.\n",
    "\n",
    "A 2-gram (or bigram) is a two-word sequence of words, like “I love”, “love reading”, or “Medium Channel”.\n",
    "\n",
    "And a 3-gram (or trigram) is a three-word sequence of words like “I love reading”, “about data science” ."
   ]
  },
  {
   "cell_type": "code",
   "execution_count": null,
   "id": "3610e7d5",
   "metadata": {},
   "outputs": [],
   "source": [
    "Q4. How to generate n-grams from text?\n",
    "\n",
    "Ans:\n",
    "\n",
    "The Extract N-Gram Features from Text module creates two types of output: Results dataset: A summary of the analyzed text\n",
    "together with the n-grams that were extracted. Columns that you did not select in the Text column option are passed \n",
    "through to the output."
   ]
  },
  {
   "cell_type": "code",
   "execution_count": null,
   "id": "8b658840",
   "metadata": {},
   "outputs": [],
   "source": [
    "Q5. Explain Lemmatization\n",
    "\n",
    "Ans:\n",
    "\n",
    "Lemmatization is a text normalization technique used in Natural Language Processing (NLP). It has been studied for a very long \n",
    "time and lemmatization algorithms have been made since the 1960s. Essentially, lemmatization is a technique that switches any \n",
    "kind of a word to its base root mode. It is a linguistic term that means grouping together words with the same root or lemma \n",
    "but with different inflections or derivatives of meaning so they can be analyzed as one item. The aim is to take away \n",
    "inflectional suffixes and prefixes to bring out the word's dictionary form."
   ]
  },
  {
   "cell_type": "code",
   "execution_count": null,
   "id": "8b53842c",
   "metadata": {},
   "outputs": [],
   "source": [
    "Q6. Explain Stemming\n",
    "\n",
    "Ans:\n",
    "\n",
    "In linguistic morphology and information retrieval, stemming is the process of reducing inflected (or sometimes derived) words\n",
    "to their word stem, base or root form—generally a written word form. ... A computer program or subroutine that stems word may \n",
    "be called a stemming program, stemming algorithm, or stemmer.\n",
    "\n",
    "Stemming is the process of reducing a word to its word stem that affixes to suffixes and prefixes or to the roots of words \n",
    "known as a lemma. Stemming is important in natural language understanding (NLU) and natural language processing (NLP)."
   ]
  },
  {
   "cell_type": "code",
   "execution_count": null,
   "id": "6282a906",
   "metadata": {},
   "outputs": [],
   "source": [
    "Q7. Explain Part-of-speech (POS) tagging\n",
    "\n",
    "Ans:\n",
    "\n",
    "Part-of-speech (POS) tagging is a popular Natural Language Processing process which refers to categorizing words in a text\n",
    "(corpus) in correspondence with a particular part of speech, depending on the definition of the word and its context."
   ]
  },
  {
   "cell_type": "code",
   "execution_count": null,
   "id": "1aba211c",
   "metadata": {},
   "outputs": [],
   "source": [
    "Q8. Explain Chunking or shallow parsing\n",
    "\n",
    "Ans:\n",
    "\n",
    "Shallow parsing (also chunking or light parsing) is an analysis of a sentence which first identifies constituent parts of \n",
    "sentences (nouns, verbs, adjectives, etc.) and then links them to higher order units that have discrete grammatical meanings\n",
    "(noun groups or phrases, verb groups, etc.)."
   ]
  },
  {
   "cell_type": "code",
   "execution_count": null,
   "id": "b981744b",
   "metadata": {},
   "outputs": [],
   "source": [
    "Q9. Explain Noun Phrase (NP) chunking\n",
    "\n",
    "Ans:\n",
    "\n",
    "NP is the user-defined name of the chunk you are searching for. In this case NP stands for noun phrase."
   ]
  },
  {
   "cell_type": "code",
   "execution_count": null,
   "id": "04980143",
   "metadata": {},
   "outputs": [],
   "source": [
    "Q10. Explain Named Entity Recognition\n",
    "\n",
    "Ans:\n",
    "\n",
    "Named entity recognition (NER) — sometimes referred to as entity chunking, extraction, or identification — is the task of \n",
    "identifying and categorizing key information (entities) in text. ... NER is a form of natural language processing (NLP), a \n",
    "subfield of artificial intelligence."
   ]
  }
 ],
 "metadata": {
  "kernelspec": {
   "display_name": "Python 3 (ipykernel)",
   "language": "python",
   "name": "python3"
  },
  "language_info": {
   "codemirror_mode": {
    "name": "ipython",
    "version": 3
   },
   "file_extension": ".py",
   "mimetype": "text/x-python",
   "name": "python",
   "nbconvert_exporter": "python",
   "pygments_lexer": "ipython3",
   "version": "3.9.7"
  }
 },
 "nbformat": 4,
 "nbformat_minor": 5
}
